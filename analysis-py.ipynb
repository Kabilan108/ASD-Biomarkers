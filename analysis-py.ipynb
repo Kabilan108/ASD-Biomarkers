{
 "cells": [
  {
   "cell_type": "markdown",
   "metadata": {},
   "source": [
    "## Analysis for Draft 2  (Desikan)"
   ]
  },
  {
   "cell_type": "code",
   "execution_count": 18,
   "metadata": {},
   "outputs": [
    {
     "name": "stdout",
     "output_type": "stream",
     "text": [
      "The autoreload extension is already loaded. To reload it, use:\n",
      "  %reload_ext autoreload\n"
     ]
    }
   ],
   "source": [
    "%load_ext autoreload\n",
    "%autoreload 2\n",
    "\n",
    "# Imports\n",
    "from sklearn.preprocessing import MinMaxScaler\n",
    "\n",
    "from IPython.display import display\n",
    "import ipywidgets as widgets\n",
    "\n",
    "import matplotlib.pyplot as plt\n",
    "import seaborn as sns\n",
    "import pandas as pd\n",
    "import numpy as np\n",
    "\n",
    "import glob\n",
    "import os\n",
    "\n",
    "from ToolBox.neuro import stats, plot, wrangling\n",
    "\n",
    "\n",
    "# Working directory\n",
    "os.chdir(\"/mnt/z/Vault/Coursework/CS-T680/AutismCNN\")\n",
    "\n",
    "# Paths & settings\n",
    "class PATH:\n",
    "    demo = 'data/CHARM/demographics.tsv'\n",
    "    desikan = 'data/CHARM/Desikan_sift2'\n",
    "    features = 'data/statistics-desikan/features'\n",
    "    figs = 'figures'\n",
    "    results = 'data/analysis'\n",
    "\n",
    "# Load demographics information\n",
    "demo = pd.read_csv(PATH.demo, sep='\\t')"
   ]
  },
  {
   "cell_type": "markdown",
   "metadata": {},
   "source": [
    "### Analysis"
   ]
  },
  {
   "cell_type": "markdown",
   "metadata": {},
   "source": [
    "#### Gloabl measures"
   ]
  },
  {
   "cell_type": "code",
   "execution_count": 31,
   "metadata": {},
   "outputs": [
    {
     "data": {
      "text/plain": [
       "(313, 37)"
      ]
     },
     "execution_count": 31,
     "metadata": {},
     "output_type": "execute_result"
    }
   ],
   "source": [
    "features.shape"
   ]
  },
  {
   "cell_type": "code",
   "execution_count": 21,
   "metadata": {},
   "outputs": [
    {
     "data": {
      "text/plain": [
       "count    163.000000\n",
       "mean      12.096012\n",
       "std        2.762718\n",
       "min        6.370000\n",
       "25%        9.765000\n",
       "50%       12.100000\n",
       "75%       13.730000\n",
       "max       18.820000\n",
       "Name: Age, dtype: float64"
      ]
     },
     "execution_count": 21,
     "metadata": {},
     "output_type": "execute_result"
    }
   ],
   "source": [
    "df[df.DX == 'ASD'].Age.describe()"
   ]
  },
  {
   "cell_type": "code",
   "execution_count": 28,
   "metadata": {},
   "outputs": [
    {
     "data": {
      "text/plain": [
       "Male      133\n",
       "Female     30\n",
       "Name: Sex, dtype: int64"
      ]
     },
     "execution_count": 28,
     "metadata": {},
     "output_type": "execute_result"
    }
   ],
   "source": [
    "df.query('DX == \"ASD\"').Sex.value_counts()"
   ]
  },
  {
   "cell_type": "code",
   "execution_count": 22,
   "metadata": {},
   "outputs": [
    {
     "data": {
      "text/plain": [
       "count    150.000000\n",
       "mean      11.865000\n",
       "std        2.822524\n",
       "min        6.260000\n",
       "25%        9.760000\n",
       "50%       11.560000\n",
       "75%       13.887500\n",
       "max       17.900000\n",
       "Name: Age, dtype: float64"
      ]
     },
     "execution_count": 22,
     "metadata": {},
     "output_type": "execute_result"
    }
   ],
   "source": [
    "df[df.DX == 'TDC'].Age.describe()"
   ]
  },
  {
   "cell_type": "code",
   "execution_count": 29,
   "metadata": {},
   "outputs": [
    {
     "data": {
      "text/plain": [
       "Male      115\n",
       "Female     35\n",
       "Name: Sex, dtype: int64"
      ]
     },
     "execution_count": 29,
     "metadata": {},
     "output_type": "execute_result"
    }
   ],
   "source": [
    "df.query('DX == \"TDC\"').Sex.value_counts()"
   ]
  },
  {
   "cell_type": "code",
   "execution_count": 20,
   "metadata": {},
   "outputs": [
    {
     "data": {
      "text/plain": [
       "ASD    163\n",
       "TDC    150\n",
       "Name: DX, dtype: int64"
      ]
     },
     "execution_count": 20,
     "metadata": {},
     "output_type": "execute_result"
    }
   ],
   "source": [
    "df.DX.value_counts()/"
   ]
  },
  {
   "cell_type": "code",
   "execution_count": 13,
   "metadata": {},
   "outputs": [
    {
     "data": {
      "text/html": [
       "<div>\n",
       "<style scoped>\n",
       "    .dataframe tbody tr th:only-of-type {\n",
       "        vertical-align: middle;\n",
       "    }\n",
       "\n",
       "    .dataframe tbody tr th {\n",
       "        vertical-align: top;\n",
       "    }\n",
       "\n",
       "    .dataframe thead th {\n",
       "        text-align: right;\n",
       "    }\n",
       "</style>\n",
       "<table border=\"1\" class=\"dataframe\">\n",
       "  <thead>\n",
       "    <tr style=\"text-align: right;\">\n",
       "      <th></th>\n",
       "      <th>Subject</th>\n",
       "      <th>Sex</th>\n",
       "      <th>Age</th>\n",
       "      <th>DX</th>\n",
       "      <th>ADOS</th>\n",
       "      <th>SCQ</th>\n",
       "      <th>IQ</th>\n",
       "      <th>assortativity</th>\n",
       "      <th>characteristic_path_length</th>\n",
       "      <th>clustering_coefficient_avg</th>\n",
       "      <th>...</th>\n",
       "      <th>radius</th>\n",
       "      <th>strength_global</th>\n",
       "      <th>strength_global_neg</th>\n",
       "      <th>strength_global_offDiagonal</th>\n",
       "      <th>strength_global_offDiagonal_neg</th>\n",
       "      <th>strength_interHemisphere_global</th>\n",
       "      <th>strength_interHemisphere_global_neg</th>\n",
       "      <th>strength_intraHemisphere_global</th>\n",
       "      <th>strength_intraHemisphere_global_neg</th>\n",
       "      <th>strength_selfConnections_global</th>\n",
       "    </tr>\n",
       "  </thead>\n",
       "  <tbody>\n",
       "    <tr>\n",
       "      <th>0</th>\n",
       "      <td>R0006_V0021</td>\n",
       "      <td>Male</td>\n",
       "      <td>12.84</td>\n",
       "      <td>TDC</td>\n",
       "      <td>NaN</td>\n",
       "      <td>NaN</td>\n",
       "      <td>105.0</td>\n",
       "      <td>-0.039041</td>\n",
       "      <td>28.5706</td>\n",
       "      <td>0.003751</td>\n",
       "      <td>...</td>\n",
       "      <td>74.1047</td>\n",
       "      <td>2422950.0</td>\n",
       "      <td>787062.0</td>\n",
       "      <td>52.3084</td>\n",
       "      <td>0.0</td>\n",
       "      <td>4.86107</td>\n",
       "      <td>0.0</td>\n",
       "      <td>47.4473</td>\n",
       "      <td>0.0</td>\n",
       "      <td>787062.0</td>\n",
       "    </tr>\n",
       "    <tr>\n",
       "      <th>1</th>\n",
       "      <td>R0007_V0462</td>\n",
       "      <td>Male</td>\n",
       "      <td>13.49</td>\n",
       "      <td>ASD</td>\n",
       "      <td>6.0</td>\n",
       "      <td>19.0</td>\n",
       "      <td>122.0</td>\n",
       "      <td>-0.044211</td>\n",
       "      <td>25.2896</td>\n",
       "      <td>0.003726</td>\n",
       "      <td>...</td>\n",
       "      <td>45.9088</td>\n",
       "      <td>2164710.0</td>\n",
       "      <td>569282.0</td>\n",
       "      <td>51.7230</td>\n",
       "      <td>0.0</td>\n",
       "      <td>5.77906</td>\n",
       "      <td>0.0</td>\n",
       "      <td>45.9439</td>\n",
       "      <td>0.0</td>\n",
       "      <td>569282.0</td>\n",
       "    </tr>\n",
       "    <tr>\n",
       "      <th>2</th>\n",
       "      <td>R0023_V0771</td>\n",
       "      <td>Male</td>\n",
       "      <td>13.79</td>\n",
       "      <td>ASD</td>\n",
       "      <td>7.0</td>\n",
       "      <td>22.0</td>\n",
       "      <td>105.0</td>\n",
       "      <td>-0.039464</td>\n",
       "      <td>21.8185</td>\n",
       "      <td>0.004377</td>\n",
       "      <td>...</td>\n",
       "      <td>39.8195</td>\n",
       "      <td>2543180.0</td>\n",
       "      <td>722569.0</td>\n",
       "      <td>60.7260</td>\n",
       "      <td>0.0</td>\n",
       "      <td>5.63893</td>\n",
       "      <td>0.0</td>\n",
       "      <td>55.0870</td>\n",
       "      <td>0.0</td>\n",
       "      <td>722569.0</td>\n",
       "    </tr>\n",
       "    <tr>\n",
       "      <th>3</th>\n",
       "      <td>R0025_V0389</td>\n",
       "      <td>Female</td>\n",
       "      <td>10.77</td>\n",
       "      <td>ASD</td>\n",
       "      <td>7.0</td>\n",
       "      <td>11.0</td>\n",
       "      <td>127.0</td>\n",
       "      <td>-0.045113</td>\n",
       "      <td>34.2815</td>\n",
       "      <td>0.003127</td>\n",
       "      <td>...</td>\n",
       "      <td>79.7607</td>\n",
       "      <td>1839430.0</td>\n",
       "      <td>468258.0</td>\n",
       "      <td>40.7898</td>\n",
       "      <td>0.0</td>\n",
       "      <td>4.41943</td>\n",
       "      <td>0.0</td>\n",
       "      <td>36.3704</td>\n",
       "      <td>0.0</td>\n",
       "      <td>468258.0</td>\n",
       "    </tr>\n",
       "    <tr>\n",
       "      <th>4</th>\n",
       "      <td>R0028_V0064</td>\n",
       "      <td>Female</td>\n",
       "      <td>11.58</td>\n",
       "      <td>ASD</td>\n",
       "      <td>9.0</td>\n",
       "      <td>28.0</td>\n",
       "      <td>116.0</td>\n",
       "      <td>-0.032285</td>\n",
       "      <td>22.5269</td>\n",
       "      <td>0.003922</td>\n",
       "      <td>...</td>\n",
       "      <td>33.4638</td>\n",
       "      <td>2789050.0</td>\n",
       "      <td>834657.0</td>\n",
       "      <td>55.2338</td>\n",
       "      <td>0.0</td>\n",
       "      <td>5.58909</td>\n",
       "      <td>0.0</td>\n",
       "      <td>49.6447</td>\n",
       "      <td>0.0</td>\n",
       "      <td>834657.0</td>\n",
       "    </tr>\n",
       "  </tbody>\n",
       "</table>\n",
       "<p>5 rows × 44 columns</p>\n",
       "</div>"
      ],
      "text/plain": [
       "       Subject     Sex    Age   DX  ADOS   SCQ     IQ  assortativity  \\\n",
       "0  R0006_V0021    Male  12.84  TDC   NaN   NaN  105.0      -0.039041   \n",
       "1  R0007_V0462    Male  13.49  ASD   6.0  19.0  122.0      -0.044211   \n",
       "2  R0023_V0771    Male  13.79  ASD   7.0  22.0  105.0      -0.039464   \n",
       "3  R0025_V0389  Female  10.77  ASD   7.0  11.0  127.0      -0.045113   \n",
       "4  R0028_V0064  Female  11.58  ASD   9.0  28.0  116.0      -0.032285   \n",
       "\n",
       "   characteristic_path_length  clustering_coefficient_avg  ...   radius  \\\n",
       "0                     28.5706                    0.003751  ...  74.1047   \n",
       "1                     25.2896                    0.003726  ...  45.9088   \n",
       "2                     21.8185                    0.004377  ...  39.8195   \n",
       "3                     34.2815                    0.003127  ...  79.7607   \n",
       "4                     22.5269                    0.003922  ...  33.4638   \n",
       "\n",
       "   strength_global  strength_global_neg  strength_global_offDiagonal  \\\n",
       "0        2422950.0             787062.0                      52.3084   \n",
       "1        2164710.0             569282.0                      51.7230   \n",
       "2        2543180.0             722569.0                      60.7260   \n",
       "3        1839430.0             468258.0                      40.7898   \n",
       "4        2789050.0             834657.0                      55.2338   \n",
       "\n",
       "   strength_global_offDiagonal_neg  strength_interHemisphere_global  \\\n",
       "0                              0.0                          4.86107   \n",
       "1                              0.0                          5.77906   \n",
       "2                              0.0                          5.63893   \n",
       "3                              0.0                          4.41943   \n",
       "4                              0.0                          5.58909   \n",
       "\n",
       "   strength_interHemisphere_global_neg  strength_intraHemisphere_global  \\\n",
       "0                                  0.0                          47.4473   \n",
       "1                                  0.0                          45.9439   \n",
       "2                                  0.0                          55.0870   \n",
       "3                                  0.0                          36.3704   \n",
       "4                                  0.0                          49.6447   \n",
       "\n",
       "   strength_intraHemisphere_global_neg  strength_selfConnections_global  \n",
       "0                                  0.0                         787062.0  \n",
       "1                                  0.0                         569282.0  \n",
       "2                                  0.0                         722569.0  \n",
       "3                                  0.0                         468258.0  \n",
       "4                                  0.0                         834657.0  \n",
       "\n",
       "[5 rows x 44 columns]"
      ]
     },
     "execution_count": 13,
     "metadata": {},
     "output_type": "execute_result"
    }
   ],
   "source": [
    "# Load features and combine with demographics information\n",
    "features = wrangling.load_computed_measures(PATH.features, scale='global')\n",
    "df = (demo\n",
    "    .reset_index()\n",
    "    .merge(features.reset_index(), on='index')\n",
    "    .drop('index', axis=1))\n",
    "\n",
    "df.head()"
   ]
  },
  {
   "cell_type": "code",
   "execution_count": 19,
   "metadata": {},
   "outputs": [],
   "source": [
    "# Save to txt file for use in R\n",
    "df.to_csv(PATH.results + '/desikan_global_measures.txt', sep='\\t', index=False)"
   ]
  },
  {
   "cell_type": "markdown",
   "metadata": {},
   "source": [
    "#### Group difference between ASD and TDC"
   ]
  },
  {
   "cell_type": "code",
   "execution_count": null,
   "metadata": {},
   "outputs": [],
   "source": []
  }
 ],
 "metadata": {
  "kernelspec": {
   "display_name": "Python 3.9.12 ('neuro')",
   "language": "python",
   "name": "python3"
  },
  "language_info": {
   "codemirror_mode": {
    "name": "ipython",
    "version": 3
   },
   "file_extension": ".py",
   "mimetype": "text/x-python",
   "name": "python",
   "nbconvert_exporter": "python",
   "pygments_lexer": "ipython3",
   "version": "3.9.12"
  },
  "orig_nbformat": 4,
  "vscode": {
   "interpreter": {
    "hash": "28128fd565a749b8d5b82c24387e0057e6fdd73da6ec3e0ce4b252574bf4af45"
   }
  }
 },
 "nbformat": 4,
 "nbformat_minor": 2
}
