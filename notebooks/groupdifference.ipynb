{
 "cells": [
  {
   "cell_type": "markdown",
   "metadata": {},
   "source": [
    "# Group Differences"
   ]
  },
  {
   "cell_type": "code",
   "execution_count": 1,
   "metadata": {},
   "outputs": [],
   "source": [
    "%load_ext autoreload\n",
    "%autoreload 2\n",
    "\n",
    "# Standard imports\n",
    "import matplotlib.pyplot as plt\n",
    "import seaborn as sns\n",
    "import pandas as pd\n",
    "import numpy as np\n",
    "import pathlib\n",
    "import json\n",
    "import sys\n",
    "import os\n",
    "import re\n",
    "\n",
    "sys.path.append(\"src/\")\n",
    "from utils import compute_group_differences\n",
    "\n",
    "# Custom imports\n",
    "from ToolBox.neuro import stats, plot, wrangling\n",
    "\n",
    "# Define paths\n",
    "class PATH:\n",
    "    STUDY = pathlib.Path('.').parent.resolve()\n",
    "    FIGURES = STUDY.joinpath('figures')\n",
    "    RESULTS = STUDY.joinpath('results')\n",
    "    DEMO = STUDY.joinpath('data/raw/CHARM/demographics.tsv')\n",
    "    CLEAN_NAMES = STUDY.joinpath('data/clean_feature_names.json')\n",
    "    FEATURES = dict(\n",
    "        desikan=STUDY.joinpath('data/cntm-features/Desikan86_sift2/features'),\n",
    "        schaefer=STUDY.joinpath('data/cntm-features/Schaefer220_sift2/features')\n",
    "    )\n",
    "\n",
    "# Load dict for clean feature names\n",
    "with open(PATH.CLEAN_NAMES) as file:\n",
    "    clean_names = json.load(file)\n",
    "\n",
    "# Load demographics information\n",
    "demo = pd.read_csv(PATH.DEMO, sep='\\t')"
   ]
  },
  {
   "cell_type": "markdown",
   "metadata": {},
   "source": [
    "## Desikan Connectomes"
   ]
  },
  {
   "cell_type": "code",
   "execution_count": 9,
   "metadata": {},
   "outputs": [
    {
     "name": "stderr",
     "output_type": "stream",
     "text": [
      "Rows: 313 Columns: 29\n",
      "── Column specification ────────────────────────────────────────────────────────\n",
      "Delimiter: \",\"\n",
      "chr  (3): Subject, Sex, DX\n",
      "dbl (26): Age, ADOS, SCQ, IQ, assortativity, characteristic_path_length, clu...\n",
      "\n",
      "ℹ Use `spec()` to retrieve the full column specification for this data.\n",
      "ℹ Specify the column types or set `show_col_types = FALSE` to quiet this message.\n"
     ]
    }
   ],
   "source": [
    "# Load network-level features and combine with demographic data\n",
    "fpath = str(PATH.FEATURES['desikan'])\n",
    "features = wrangling.load_computed_measures(fpath, scale='global')\n",
    "df = (demo\n",
    "    .reset_index()\n",
    "    .merge(features.reset_index(), on='index')\n",
    "    .drop('index', axis=1))\n",
    "\n",
    "# Compute group differences\n",
    "group_diff = compute_group_differences(df)\n",
    "# group_diff['Measure'] = group_diff['Measure'].replace(clean_names)\n",
    "# group_diff.to_csv(PATH.RESULTS.joinpath('Desikan86_group_differences.txt'), \n",
    "#                   index=False, sep='\\t')"
   ]
  },
  {
   "cell_type": "markdown",
   "metadata": {},
   "source": [
    "## Schaefer Connectomes"
   ]
  },
  {
   "cell_type": "code",
   "execution_count": 13,
   "metadata": {},
   "outputs": [
    {
     "name": "stderr",
     "output_type": "stream",
     "text": [
      "Rows: 311 Columns: 29\n",
      "── Column specification ────────────────────────────────────────────────────────\n",
      "Delimiter: \",\"\n",
      "chr  (3): Subject, Sex, DX\n",
      "dbl (26): Age, ADOS, SCQ, IQ, assortativity, characteristic_path_length, clu...\n",
      "\n",
      "ℹ Use `spec()` to retrieve the full column specification for this data.\n",
      "ℹ Specify the column types or set `show_col_types = FALSE` to quiet this message.\n"
     ]
    }
   ],
   "source": [
    "# Load network-level features and combine with demographic data\n",
    "fpath = str(PATH.FEATURES['schaefer'])\n",
    "features = wrangling.load_computed_measures(fpath, scale='global')\n",
    "df = (demo\n",
    "    .query(\"Subject != 'R0083_V0168'\")  # Remove R0083_V0168\n",
    "    .reset_index()\n",
    "    .merge(features.reset_index(), on='index')\n",
    "    .drop('index', axis=1))\n",
    "\n",
    "# Compute group differences\n",
    "group_diff = compute_group_differences(df)\n",
    "group_diff['Measure'] = group_diff['Measure'].replace(clean_names)\n",
    "group_diff.to_csv(PATH.RESULTS.joinpath('Schaefer220_group_differences.txt'), \n",
    "                  index=False, sep='\\t')"
   ]
  }
 ],
 "metadata": {
  "kernelspec": {
   "display_name": "Python 3.9.12 ('neuro')",
   "language": "python",
   "name": "python3"
  },
  "language_info": {
   "codemirror_mode": {
    "name": "ipython",
    "version": 3
   },
   "file_extension": ".py",
   "mimetype": "text/x-python",
   "name": "python",
   "nbconvert_exporter": "python",
   "pygments_lexer": "ipython3",
   "version": "3.9.12"
  },
  "orig_nbformat": 4,
  "vscode": {
   "interpreter": {
    "hash": "28128fd565a749b8d5b82c24387e0057e6fdd73da6ec3e0ce4b252574bf4af45"
   }
  }
 },
 "nbformat": 4,
 "nbformat_minor": 2
}
